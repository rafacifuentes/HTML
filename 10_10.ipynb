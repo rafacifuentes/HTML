{
  "nbformat": 4,
  "nbformat_minor": 0,
  "metadata": {
    "colab": {
      "provenance": [],
      "authorship_tag": "ABX9TyNBa1Ci+6XVsPYhhMM188BO",
      "include_colab_link": true
    },
    "kernelspec": {
      "name": "python3",
      "display_name": "Python 3"
    },
    "language_info": {
      "name": "python"
    }
  },
  "cells": [
    {
      "cell_type": "markdown",
      "metadata": {
        "id": "view-in-github",
        "colab_type": "text"
      },
      "source": [
        "<a href=\"https://colab.research.google.com/github/rafacifuentes/HTML/blob/main/10_10.ipynb\" target=\"_parent\"><img src=\"https://colab.research.google.com/assets/colab-badge.svg\" alt=\"Open In Colab\"/></a>"
      ]
    },
    {
      "cell_type": "code",
      "source": [
        "valor1 = int(input(\" Digite o primeiro valor: \"))\n",
        "valor2 = int(input(\" Digite o segundo valor: \"))\n",
        "\n",
        "if valor1 > valor2:\n",
        "  print(f\"O maior valor é: {valor1} \")\n",
        "elif valor2 > valor1:\n",
        "    print(f\"O maior valor é: {valor2} \")\n",
        "else:\n",
        "    print(\" Os valores são iguais.\")"
      ],
      "metadata": {
        "colab": {
          "base_uri": "https://localhost:8080/"
        },
        "id": "x0o_IJL4Hwtd",
        "outputId": "d2d7b527-ef15-473c-e5ad-d2a4e0d14fa2"
      },
      "execution_count": null,
      "outputs": [
        {
          "output_type": "stream",
          "name": "stdout",
          "text": [
            " Digite o primeiro valor: 5\n",
            " Digite o segundo valor: 5\n",
            " Os valores são iguais.\n"
          ]
        }
      ]
    },
    {
      "cell_type": "code",
      "source": [
        "from datetime import datetime\n",
        "\n",
        "anoNascimento = int(input(\" Digite o ano em que voce nasceu: \"))\n",
        "anoAtual = datetime.now().year\n",
        "idade = anoAtual - anoNascimento\n",
        "\n",
        "if idade >= 18:\n",
        "  print(\"Voce podera votar este ano.\")\n",
        "else:\n",
        "  print(\"Voce nao podera votar este ano.\")"
      ],
      "metadata": {
        "colab": {
          "base_uri": "https://localhost:8080/"
        },
        "id": "O8tWgRE0KxVH",
        "outputId": "a274e5fd-3138-42ea-c488-0e20ad4d2c8f"
      },
      "execution_count": null,
      "outputs": [
        {
          "output_type": "stream",
          "name": "stdout",
          "text": [
            " Digite o ano em que voce nasceu: 1884\n",
            "Voce podera votar este ano.\n"
          ]
        }
      ]
    },
    {
      "cell_type": "code",
      "source": [
        "senha = int(input(\"Digite a senha: \"))\n",
        "\n",
        "if senha == 1234:\n",
        "  print(\"ACESSO PERMITIDO\")\n",
        "else:\n",
        "  print(\"ACESSO NEGADO\")"
      ],
      "metadata": {
        "colab": {
          "base_uri": "https://localhost:8080/"
        },
        "id": "5ElLIfmzcp2d",
        "outputId": "d6a857d8-82f1-4898-f237-a93a764f0643"
      },
      "execution_count": null,
      "outputs": [
        {
          "output_type": "stream",
          "name": "stdout",
          "text": [
            "Digite a senha: 1\n",
            "ACESSO NEGADO\n"
          ]
        }
      ]
    },
    {
      "cell_type": "code",
      "source": [
        "macas = int(input(\"Digite o número de maçãs compradas: \"))\n",
        "\n",
        "if macas < 12:\n",
        "  valor_total = macas * 0.30\n",
        "else:\n",
        "  valor_total = macas * 0.25\n",
        "\n",
        "print(f\"O valor total da compra é: R$ {valor_total:.2f}\")"
      ],
      "metadata": {
        "id": "9QQY4iMxtZU-"
      },
      "execution_count": null,
      "outputs": []
    },
    {
      "cell_type": "code",
      "source": [
        "valor1 = int(input(\"Digite o primeiro valor: \"))\n",
        "valor2 = int(input(\"Digite o segundo valor: \"))\n",
        "valor3 = int(input(\"Digite o terceiro valor: \"))\n",
        "\n",
        "if valor1 < valor2 and valor1 < valor3:\n",
        "  if valor2 < valor3:\n",
        "    print(valor1, valor2, valor3)\n",
        "  else:\n",
        "    print(valor1, valor3, valor2)\n",
        "elif valor2 < valor1 and valor2 < valor3:\n",
        "  if valor1 < valor3:\n",
        "    print(valor2, valor1, valor3)\n",
        "  else:\n",
        "    print(valor2, valor3, valor1)\n",
        "else:\n",
        "  if valor1 < valor2:\n",
        "    print(valor3, valor1, valor2)\n",
        "  else:\n",
        "    print(valor3, valor2, valor1)"
      ],
      "metadata": {
        "id": "YQnS97hOtaev"
      },
      "execution_count": null,
      "outputs": []
    },
    {
      "cell_type": "code",
      "source": [
        "import math\n",
        "\n",
        "lados = int(input(\"Digite o número de lados do polígono regular: \"))\n",
        "medida_lado = float(input(\"Digite a medida do lado (em cm): \"))\n",
        "\n",
        "if lados == 3:\n",
        "  area = (medida_lado ** 2 * math.sqrt(3)) / 4\n",
        "  print(\"TRIÂNGULO\")\n",
        "  print(f\"Área: {area:.2f} cm²\")\n",
        "elif lados == 4:\n",
        "  area = medida_lado ** 2\n",
        "  print(\"QUADRADO\")\n",
        "  print(f\"Área: {area:.2f} cm²\")\n",
        "elif lados == 5:\n",
        "  print(\"PENTÁGONO\")"
      ],
      "metadata": {
        "id": "XHyMvu9Lt3yQ"
      },
      "execution_count": null,
      "outputs": []
    },
    {
      "cell_type": "code",
      "source": [
        "import math\n",
        "\n",
        "lados = int(input(\"Digite o número de lados do polígono regular: \"))\n",
        "medida_lado = float(input(\"Digite a medida do lado (em cm): \"))\n",
        "\n",
        "if lados < 3:\n",
        "  print(\"NÃO É UM POLÍGONO\")\n",
        "elif lados == 3:\n",
        "  area = (medida_lado ** 2 * math.sqrt(3)) / 4\n",
        "  print(\"TRIÂNGULO\")\n",
        "  print(f\"Área: {area:.2f} cm²\")\n",
        "elif lados == 4:\n",
        "  area = medida_lado ** 2\n",
        "  print(\"QUADRADO\")\n",
        "  print(f\"Área: {area:.2f} cm²\")\n",
        "elif lados == 5:\n",
        "  print(\"PENTÁGONO\")\n",
        "else:\n",
        "  print(\"POLÍGONO NÃO IDENTIFICADO\")"
      ],
      "metadata": {
        "id": "pIoTreOttjwe"
      },
      "execution_count": null,
      "outputs": []
    },
    {
      "cell_type": "code",
      "source": [
        "valor1 = int(input(\"Digite o primeiro valor: \"))\n",
        "valor2 = int(input(\"Digite o segundo valor: \"))\n",
        "valor3 = int(input(\"Digite o terceiro valor: \"))\n",
        "\n",
        "if valor1 > valor2 and valor1 > valor3:\n",
        "  print(f\"O maior valor é: {valor1}\")\n",
        "elif valor2 > valor1 and valor2 > valor3:\n",
        "  print(f\"O maior valor é: {valor2}\")\n",
        "else:\n",
        "  print(f\"O maior valor é: {valor3}\")"
      ],
      "metadata": {
        "id": "VPNrQVfeuAa4"
      },
      "execution_count": null,
      "outputs": []
    },
    {
      "cell_type": "code",
      "source": [
        "lado1 = float(input(\"Digite a medida do primeiro lado: \"))\n",
        "lado2 = float(input(\"Digite a medida do segundo lado: \"))\n",
        "lado3 = float(input(\"Digite a medida do terceiro lado: \"))\n",
        "\n",
        "if lado1 == lado2 and lado2 == lado3:\n",
        "  print(\"Triângulo Equilátero\")\n",
        "elif lado1 == lado2 or lado1 == lado3 or lado2 == lado3:\n",
        "  print(\"Triângulo Isósceles\")\n",
        "else:\n",
        "  print(\"Triângulo Escaleno\")"
      ],
      "metadata": {
        "id": "RMZp2ndTuFhn"
      },
      "execution_count": null,
      "outputs": []
    },
    {
      "cell_type": "code",
      "source": [
        "angulo1 = float(input(\"Digite o valor do primeiro ângulo: \"))\n",
        "angulo2 = float(input(\"Digite o valor do segundo ângulo: \"))\n",
        "angulo3 = float(input(\"Digite o valor do terceiro ângulo: \"))\n",
        "\n",
        "if angulo1 == 90 or angulo2 == 90 or angulo3 == 90:\n",
        "  print(\"Triângulo Retângulo\")\n",
        "elif angulo1 > 90 or angulo2 > 90 or angulo3 > 90:\n",
        "  print(\"Triângulo Obtusângulo\")\n",
        "else:\n",
        "  print(\"Triângulo Acutângulo\")"
      ],
      "metadata": {
        "id": "D41FwoZNuN_S"
      },
      "execution_count": null,
      "outputs": []
    },
    {
      "cell_type": "code",
      "source": [
        "altura = float(input(\"Digite a altura em metros: \"))\n",
        "sexo = int(input(\"Digite o sexo (1 para feminino, 2 para masculino): \"))\n",
        "\n",
        "if sexo == 1:\n",
        "    peso_ideal = (62.1 * altura) - 44.7\n",
        "else:\n",
        "    peso_ideal = (72.7 * altura) - 58\n",
        "\n",
        "print(f\"O peso ideal é: {peso_ideal:.2f} kg\")\n"
      ],
      "metadata": {
        "id": "WTWXOwmauig_"
      },
      "execution_count": null,
      "outputs": []
    }
  ]
}